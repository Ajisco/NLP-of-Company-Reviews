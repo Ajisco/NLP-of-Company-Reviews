{
 "cells": [
  {
   "cell_type": "markdown",
   "metadata": {},
   "source": [
    "___\n",
    "\n",
    "# Natural Language Processing of Yelp Company Reviews - Project\n",
    "### By: Ajibade Abdulquddus\n",
    "<img src='nlp2.jpg'/>\n"
   ]
  },
  {
   "cell_type": "markdown",
   "metadata": {},
   "source": [
    "In this NLP project we'll be attempting to classify Yelp Reviews into 1 star or 5 star categories based off the text content in the reviews using pipeline methods.\n",
    "\n",
    "We will use the [Yelp Review Data Set from Kaggle](https://www.kaggle.com/c/yelp-recsys-2013).\n",
    "\n",
    "Each observation in this dataset is a review of a particular business by a particular user.\n",
    "\n",
    "The \"stars\" column is the number of stars (1 through 5) assigned by the reviewer to the business. (Higher stars is better.) In other words, it is the rating of the business by the person who wrote the review.\n",
    "\n",
    "The \"cool\" column is the number of \"cool\" votes this review received from other Yelp users. \n",
    "\n",
    "All reviews start with 0 \"cool\" votes, and there is no limit to how many \"cool\" votes a review can receive. In other words, it is a rating of the review itself, not a rating of the business.\n",
    "\n",
    "The \"useful\" and \"funny\" columns are similar to the \"cool\" column."
   ]
  },
  {
   "cell_type": "markdown",
   "metadata": {},
   "source": [
    "## Imports\n",
    "**Importing the necessasry Libraries:**"
   ]
  },
  {
   "cell_type": "code",
   "execution_count": 2,
   "metadata": {},
   "outputs": [],
   "source": [
    "import numpy as np\n",
    "import pandas as pd\n",
    "import seaborn as sns\n",
    "import matplotlib.pyplot as plt \n",
    "%matplotlib inline\n",
    "sns.set_style('whitegrid')\n",
    "import string\n",
    "from nltk.corpus import stopwords"
   ]
  },
  {
   "cell_type": "markdown",
   "metadata": {},
   "source": [
    "## The Data\n",
    "\n",
    "**Reading the yelp.csv file and setting it as a dataframe called yelp:**"
   ]
  },
  {
   "cell_type": "code",
   "execution_count": 3,
   "metadata": {},
   "outputs": [],
   "source": [
    "yelp= pd.read_csv('yelp.csv')"
   ]
  },
  {
   "cell_type": "markdown",
   "metadata": {},
   "source": [
    "**Checking the head, info , and describe methods on yelp:**"
   ]
  },
  {
   "cell_type": "code",
   "execution_count": 3,
   "metadata": {},
   "outputs": [
    {
     "data": {
      "text/html": [
       "<div>\n",
       "<style scoped>\n",
       "    .dataframe tbody tr th:only-of-type {\n",
       "        vertical-align: middle;\n",
       "    }\n",
       "\n",
       "    .dataframe tbody tr th {\n",
       "        vertical-align: top;\n",
       "    }\n",
       "\n",
       "    .dataframe thead th {\n",
       "        text-align: right;\n",
       "    }\n",
       "</style>\n",
       "<table border=\"1\" class=\"dataframe\">\n",
       "  <thead>\n",
       "    <tr style=\"text-align: right;\">\n",
       "      <th></th>\n",
       "      <th>business_id</th>\n",
       "      <th>date</th>\n",
       "      <th>review_id</th>\n",
       "      <th>stars</th>\n",
       "      <th>text</th>\n",
       "      <th>type</th>\n",
       "      <th>user_id</th>\n",
       "      <th>cool</th>\n",
       "      <th>useful</th>\n",
       "      <th>funny</th>\n",
       "    </tr>\n",
       "  </thead>\n",
       "  <tbody>\n",
       "    <tr>\n",
       "      <th>0</th>\n",
       "      <td>9yKzy9PApeiPPOUJEtnvkg</td>\n",
       "      <td>2011-01-26</td>\n",
       "      <td>fWKvX83p0-ka4JS3dc6E5A</td>\n",
       "      <td>5</td>\n",
       "      <td>My wife took me here on my birthday for breakf...</td>\n",
       "      <td>review</td>\n",
       "      <td>rLtl8ZkDX5vH5nAx9C3q5Q</td>\n",
       "      <td>2</td>\n",
       "      <td>5</td>\n",
       "      <td>0</td>\n",
       "    </tr>\n",
       "    <tr>\n",
       "      <th>1</th>\n",
       "      <td>ZRJwVLyzEJq1VAihDhYiow</td>\n",
       "      <td>2011-07-27</td>\n",
       "      <td>IjZ33sJrzXqU-0X6U8NwyA</td>\n",
       "      <td>5</td>\n",
       "      <td>I have no idea why some people give bad review...</td>\n",
       "      <td>review</td>\n",
       "      <td>0a2KyEL0d3Yb1V6aivbIuQ</td>\n",
       "      <td>0</td>\n",
       "      <td>0</td>\n",
       "      <td>0</td>\n",
       "    </tr>\n",
       "    <tr>\n",
       "      <th>2</th>\n",
       "      <td>6oRAC4uyJCsJl1X0WZpVSA</td>\n",
       "      <td>2012-06-14</td>\n",
       "      <td>IESLBzqUCLdSzSqm0eCSxQ</td>\n",
       "      <td>4</td>\n",
       "      <td>love the gyro plate. Rice is so good and I als...</td>\n",
       "      <td>review</td>\n",
       "      <td>0hT2KtfLiobPvh6cDC8JQg</td>\n",
       "      <td>0</td>\n",
       "      <td>1</td>\n",
       "      <td>0</td>\n",
       "    </tr>\n",
       "    <tr>\n",
       "      <th>3</th>\n",
       "      <td>_1QQZuf4zZOyFCvXc0o6Vg</td>\n",
       "      <td>2010-05-27</td>\n",
       "      <td>G-WvGaISbqqaMHlNnByodA</td>\n",
       "      <td>5</td>\n",
       "      <td>Rosie, Dakota, and I LOVE Chaparral Dog Park!!...</td>\n",
       "      <td>review</td>\n",
       "      <td>uZetl9T0NcROGOyFfughhg</td>\n",
       "      <td>1</td>\n",
       "      <td>2</td>\n",
       "      <td>0</td>\n",
       "    </tr>\n",
       "    <tr>\n",
       "      <th>4</th>\n",
       "      <td>6ozycU1RpktNG2-1BroVtw</td>\n",
       "      <td>2012-01-05</td>\n",
       "      <td>1uJFq2r5QfJG_6ExMRCaGw</td>\n",
       "      <td>5</td>\n",
       "      <td>General Manager Scott Petello is a good egg!!!...</td>\n",
       "      <td>review</td>\n",
       "      <td>vYmM4KTsC8ZfQBg-j5MWkw</td>\n",
       "      <td>0</td>\n",
       "      <td>0</td>\n",
       "      <td>0</td>\n",
       "    </tr>\n",
       "  </tbody>\n",
       "</table>\n",
       "</div>"
      ],
      "text/plain": [
       "              business_id        date               review_id  stars  \\\n",
       "0  9yKzy9PApeiPPOUJEtnvkg  2011-01-26  fWKvX83p0-ka4JS3dc6E5A      5   \n",
       "1  ZRJwVLyzEJq1VAihDhYiow  2011-07-27  IjZ33sJrzXqU-0X6U8NwyA      5   \n",
       "2  6oRAC4uyJCsJl1X0WZpVSA  2012-06-14  IESLBzqUCLdSzSqm0eCSxQ      4   \n",
       "3  _1QQZuf4zZOyFCvXc0o6Vg  2010-05-27  G-WvGaISbqqaMHlNnByodA      5   \n",
       "4  6ozycU1RpktNG2-1BroVtw  2012-01-05  1uJFq2r5QfJG_6ExMRCaGw      5   \n",
       "\n",
       "                                                text    type  \\\n",
       "0  My wife took me here on my birthday for breakf...  review   \n",
       "1  I have no idea why some people give bad review...  review   \n",
       "2  love the gyro plate. Rice is so good and I als...  review   \n",
       "3  Rosie, Dakota, and I LOVE Chaparral Dog Park!!...  review   \n",
       "4  General Manager Scott Petello is a good egg!!!...  review   \n",
       "\n",
       "                  user_id  cool  useful  funny  \n",
       "0  rLtl8ZkDX5vH5nAx9C3q5Q     2       5      0  \n",
       "1  0a2KyEL0d3Yb1V6aivbIuQ     0       0      0  \n",
       "2  0hT2KtfLiobPvh6cDC8JQg     0       1      0  \n",
       "3  uZetl9T0NcROGOyFfughhg     1       2      0  \n",
       "4  vYmM4KTsC8ZfQBg-j5MWkw     0       0      0  "
      ]
     },
     "execution_count": 3,
     "metadata": {},
     "output_type": "execute_result"
    }
   ],
   "source": [
    "yelp.head()"
   ]
  },
  {
   "cell_type": "code",
   "execution_count": 4,
   "metadata": {},
   "outputs": [
    {
     "name": "stdout",
     "output_type": "stream",
     "text": [
      "<class 'pandas.core.frame.DataFrame'>\n",
      "RangeIndex: 10000 entries, 0 to 9999\n",
      "Data columns (total 10 columns):\n",
      "business_id    10000 non-null object\n",
      "date           10000 non-null object\n",
      "review_id      10000 non-null object\n",
      "stars          10000 non-null int64\n",
      "text           10000 non-null object\n",
      "type           10000 non-null object\n",
      "user_id        10000 non-null object\n",
      "cool           10000 non-null int64\n",
      "useful         10000 non-null int64\n",
      "funny          10000 non-null int64\n",
      "dtypes: int64(4), object(6)\n",
      "memory usage: 546.9+ KB\n"
     ]
    }
   ],
   "source": [
    "yelp.info()"
   ]
  },
  {
   "cell_type": "code",
   "execution_count": 5,
   "metadata": {},
   "outputs": [
    {
     "data": {
      "text/html": [
       "<div>\n",
       "<style scoped>\n",
       "    .dataframe tbody tr th:only-of-type {\n",
       "        vertical-align: middle;\n",
       "    }\n",
       "\n",
       "    .dataframe tbody tr th {\n",
       "        vertical-align: top;\n",
       "    }\n",
       "\n",
       "    .dataframe thead th {\n",
       "        text-align: right;\n",
       "    }\n",
       "</style>\n",
       "<table border=\"1\" class=\"dataframe\">\n",
       "  <thead>\n",
       "    <tr style=\"text-align: right;\">\n",
       "      <th></th>\n",
       "      <th>stars</th>\n",
       "      <th>cool</th>\n",
       "      <th>useful</th>\n",
       "      <th>funny</th>\n",
       "    </tr>\n",
       "  </thead>\n",
       "  <tbody>\n",
       "    <tr>\n",
       "      <th>count</th>\n",
       "      <td>10000.000000</td>\n",
       "      <td>10000.000000</td>\n",
       "      <td>10000.000000</td>\n",
       "      <td>10000.000000</td>\n",
       "    </tr>\n",
       "    <tr>\n",
       "      <th>mean</th>\n",
       "      <td>3.777500</td>\n",
       "      <td>0.876800</td>\n",
       "      <td>1.409300</td>\n",
       "      <td>0.701300</td>\n",
       "    </tr>\n",
       "    <tr>\n",
       "      <th>std</th>\n",
       "      <td>1.214636</td>\n",
       "      <td>2.067861</td>\n",
       "      <td>2.336647</td>\n",
       "      <td>1.907942</td>\n",
       "    </tr>\n",
       "    <tr>\n",
       "      <th>min</th>\n",
       "      <td>1.000000</td>\n",
       "      <td>0.000000</td>\n",
       "      <td>0.000000</td>\n",
       "      <td>0.000000</td>\n",
       "    </tr>\n",
       "    <tr>\n",
       "      <th>25%</th>\n",
       "      <td>3.000000</td>\n",
       "      <td>0.000000</td>\n",
       "      <td>0.000000</td>\n",
       "      <td>0.000000</td>\n",
       "    </tr>\n",
       "    <tr>\n",
       "      <th>50%</th>\n",
       "      <td>4.000000</td>\n",
       "      <td>0.000000</td>\n",
       "      <td>1.000000</td>\n",
       "      <td>0.000000</td>\n",
       "    </tr>\n",
       "    <tr>\n",
       "      <th>75%</th>\n",
       "      <td>5.000000</td>\n",
       "      <td>1.000000</td>\n",
       "      <td>2.000000</td>\n",
       "      <td>1.000000</td>\n",
       "    </tr>\n",
       "    <tr>\n",
       "      <th>max</th>\n",
       "      <td>5.000000</td>\n",
       "      <td>77.000000</td>\n",
       "      <td>76.000000</td>\n",
       "      <td>57.000000</td>\n",
       "    </tr>\n",
       "  </tbody>\n",
       "</table>\n",
       "</div>"
      ],
      "text/plain": [
       "              stars          cool        useful         funny\n",
       "count  10000.000000  10000.000000  10000.000000  10000.000000\n",
       "mean       3.777500      0.876800      1.409300      0.701300\n",
       "std        1.214636      2.067861      2.336647      1.907942\n",
       "min        1.000000      0.000000      0.000000      0.000000\n",
       "25%        3.000000      0.000000      0.000000      0.000000\n",
       "50%        4.000000      0.000000      1.000000      0.000000\n",
       "75%        5.000000      1.000000      2.000000      1.000000\n",
       "max        5.000000     77.000000     76.000000     57.000000"
      ]
     },
     "execution_count": 5,
     "metadata": {},
     "output_type": "execute_result"
    }
   ],
   "source": [
    "yelp.describe()"
   ]
  },
  {
   "cell_type": "markdown",
   "metadata": {},
   "source": [
    "**Creating a new column called \"text length\" which is the number of words in the text column:**"
   ]
  },
  {
   "cell_type": "code",
   "execution_count": 8,
   "metadata": {},
   "outputs": [],
   "source": [
    "yelp['text length']= yelp['text'].apply(len)"
   ]
  },
  {
   "cell_type": "code",
   "execution_count": 7,
   "metadata": {},
   "outputs": [
    {
     "data": {
      "text/html": [
       "<div>\n",
       "<style scoped>\n",
       "    .dataframe tbody tr th:only-of-type {\n",
       "        vertical-align: middle;\n",
       "    }\n",
       "\n",
       "    .dataframe tbody tr th {\n",
       "        vertical-align: top;\n",
       "    }\n",
       "\n",
       "    .dataframe thead th {\n",
       "        text-align: right;\n",
       "    }\n",
       "</style>\n",
       "<table border=\"1\" class=\"dataframe\">\n",
       "  <thead>\n",
       "    <tr style=\"text-align: right;\">\n",
       "      <th></th>\n",
       "      <th>business_id</th>\n",
       "      <th>date</th>\n",
       "      <th>review_id</th>\n",
       "      <th>stars</th>\n",
       "      <th>text</th>\n",
       "      <th>type</th>\n",
       "      <th>user_id</th>\n",
       "      <th>cool</th>\n",
       "      <th>useful</th>\n",
       "      <th>funny</th>\n",
       "      <th>text length</th>\n",
       "    </tr>\n",
       "  </thead>\n",
       "  <tbody>\n",
       "    <tr>\n",
       "      <th>0</th>\n",
       "      <td>9yKzy9PApeiPPOUJEtnvkg</td>\n",
       "      <td>2011-01-26</td>\n",
       "      <td>fWKvX83p0-ka4JS3dc6E5A</td>\n",
       "      <td>5</td>\n",
       "      <td>My wife took me here on my birthday for breakf...</td>\n",
       "      <td>review</td>\n",
       "      <td>rLtl8ZkDX5vH5nAx9C3q5Q</td>\n",
       "      <td>2</td>\n",
       "      <td>5</td>\n",
       "      <td>0</td>\n",
       "      <td>889</td>\n",
       "    </tr>\n",
       "    <tr>\n",
       "      <th>1</th>\n",
       "      <td>ZRJwVLyzEJq1VAihDhYiow</td>\n",
       "      <td>2011-07-27</td>\n",
       "      <td>IjZ33sJrzXqU-0X6U8NwyA</td>\n",
       "      <td>5</td>\n",
       "      <td>I have no idea why some people give bad review...</td>\n",
       "      <td>review</td>\n",
       "      <td>0a2KyEL0d3Yb1V6aivbIuQ</td>\n",
       "      <td>0</td>\n",
       "      <td>0</td>\n",
       "      <td>0</td>\n",
       "      <td>1345</td>\n",
       "    </tr>\n",
       "    <tr>\n",
       "      <th>2</th>\n",
       "      <td>6oRAC4uyJCsJl1X0WZpVSA</td>\n",
       "      <td>2012-06-14</td>\n",
       "      <td>IESLBzqUCLdSzSqm0eCSxQ</td>\n",
       "      <td>4</td>\n",
       "      <td>love the gyro plate. Rice is so good and I als...</td>\n",
       "      <td>review</td>\n",
       "      <td>0hT2KtfLiobPvh6cDC8JQg</td>\n",
       "      <td>0</td>\n",
       "      <td>1</td>\n",
       "      <td>0</td>\n",
       "      <td>76</td>\n",
       "    </tr>\n",
       "    <tr>\n",
       "      <th>3</th>\n",
       "      <td>_1QQZuf4zZOyFCvXc0o6Vg</td>\n",
       "      <td>2010-05-27</td>\n",
       "      <td>G-WvGaISbqqaMHlNnByodA</td>\n",
       "      <td>5</td>\n",
       "      <td>Rosie, Dakota, and I LOVE Chaparral Dog Park!!...</td>\n",
       "      <td>review</td>\n",
       "      <td>uZetl9T0NcROGOyFfughhg</td>\n",
       "      <td>1</td>\n",
       "      <td>2</td>\n",
       "      <td>0</td>\n",
       "      <td>419</td>\n",
       "    </tr>\n",
       "    <tr>\n",
       "      <th>4</th>\n",
       "      <td>6ozycU1RpktNG2-1BroVtw</td>\n",
       "      <td>2012-01-05</td>\n",
       "      <td>1uJFq2r5QfJG_6ExMRCaGw</td>\n",
       "      <td>5</td>\n",
       "      <td>General Manager Scott Petello is a good egg!!!...</td>\n",
       "      <td>review</td>\n",
       "      <td>vYmM4KTsC8ZfQBg-j5MWkw</td>\n",
       "      <td>0</td>\n",
       "      <td>0</td>\n",
       "      <td>0</td>\n",
       "      <td>469</td>\n",
       "    </tr>\n",
       "  </tbody>\n",
       "</table>\n",
       "</div>"
      ],
      "text/plain": [
       "              business_id        date               review_id  stars  \\\n",
       "0  9yKzy9PApeiPPOUJEtnvkg  2011-01-26  fWKvX83p0-ka4JS3dc6E5A      5   \n",
       "1  ZRJwVLyzEJq1VAihDhYiow  2011-07-27  IjZ33sJrzXqU-0X6U8NwyA      5   \n",
       "2  6oRAC4uyJCsJl1X0WZpVSA  2012-06-14  IESLBzqUCLdSzSqm0eCSxQ      4   \n",
       "3  _1QQZuf4zZOyFCvXc0o6Vg  2010-05-27  G-WvGaISbqqaMHlNnByodA      5   \n",
       "4  6ozycU1RpktNG2-1BroVtw  2012-01-05  1uJFq2r5QfJG_6ExMRCaGw      5   \n",
       "\n",
       "                                                text    type  \\\n",
       "0  My wife took me here on my birthday for breakf...  review   \n",
       "1  I have no idea why some people give bad review...  review   \n",
       "2  love the gyro plate. Rice is so good and I als...  review   \n",
       "3  Rosie, Dakota, and I LOVE Chaparral Dog Park!!...  review   \n",
       "4  General Manager Scott Petello is a good egg!!!...  review   \n",
       "\n",
       "                  user_id  cool  useful  funny  text length  \n",
       "0  rLtl8ZkDX5vH5nAx9C3q5Q     2       5      0          889  \n",
       "1  0a2KyEL0d3Yb1V6aivbIuQ     0       0      0         1345  \n",
       "2  0hT2KtfLiobPvh6cDC8JQg     0       1      0           76  \n",
       "3  uZetl9T0NcROGOyFfughhg     1       2      0          419  \n",
       "4  vYmM4KTsC8ZfQBg-j5MWkw     0       0      0          469  "
      ]
     },
     "execution_count": 7,
     "metadata": {},
     "output_type": "execute_result"
    }
   ],
   "source": [
    "yelp.head()"
   ]
  },
  {
   "cell_type": "markdown",
   "metadata": {},
   "source": [
    "# EDA\n",
    "\n",
    "We'll explore the data:"
   ]
  },
  {
   "cell_type": "markdown",
   "metadata": {},
   "source": [
    "**Using FacetGrid from the seaborn library, we'll create a grid of 5 histograms of text length based off of the star ratings:**"
   ]
  },
  {
   "cell_type": "code",
   "execution_count": 8,
   "metadata": {},
   "outputs": [
    {
     "data": {
      "text/plain": [
       "<seaborn.axisgrid.FacetGrid at 0x11061bd0>"
      ]
     },
     "execution_count": 8,
     "metadata": {},
     "output_type": "execute_result"
    },
    {
     "data": {
      "image/png": "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\n",
      "text/plain": [
       "<Figure size 1080x216 with 5 Axes>"
      ]
     },
     "metadata": {
      "needs_background": "light"
     },
     "output_type": "display_data"
    }
   ],
   "source": [
    "sns.FacetGrid(yelp ,col='stars').map(plt.hist,'text length')"
   ]
  },
  {
   "cell_type": "markdown",
   "metadata": {},
   "source": [
    "**Creating a boxplot of text length for each star category:**"
   ]
  },
  {
   "cell_type": "code",
   "execution_count": 9,
   "metadata": {},
   "outputs": [
    {
     "data": {
      "text/plain": [
       "<AxesSubplot:xlabel='stars', ylabel='text length'>"
      ]
     },
     "execution_count": 9,
     "metadata": {},
     "output_type": "execute_result"
    },
    {
     "data": {
      "image/png": "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\n",
      "text/plain": [
       "<Figure size 432x288 with 1 Axes>"
      ]
     },
     "metadata": {
      "needs_background": "light"
     },
     "output_type": "display_data"
    }
   ],
   "source": [
    "sns.boxplot(data=yelp, x='stars', y='text length')"
   ]
  },
  {
   "cell_type": "markdown",
   "metadata": {},
   "source": [
    "**Creating a countplot of the number of occurrences for each type of star rating:**"
   ]
  },
  {
   "cell_type": "code",
   "execution_count": 10,
   "metadata": {},
   "outputs": [
    {
     "data": {
      "text/plain": [
       "<AxesSubplot:xlabel='stars', ylabel='count'>"
      ]
     },
     "execution_count": 10,
     "metadata": {},
     "output_type": "execute_result"
    },
    {
     "data": {
      "image/png": "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\n",
      "text/plain": [
       "<Figure size 432x288 with 1 Axes>"
      ]
     },
     "metadata": {
      "needs_background": "light"
     },
     "output_type": "display_data"
    }
   ],
   "source": [
    "sns.countplot(data=yelp, x='stars')"
   ]
  },
  {
   "cell_type": "markdown",
   "metadata": {},
   "source": [
    "**Using groupby to get the mean values of the numerical columns:**"
   ]
  },
  {
   "cell_type": "code",
   "execution_count": 9,
   "metadata": {},
   "outputs": [
    {
     "data": {
      "text/html": [
       "<div>\n",
       "<style scoped>\n",
       "    .dataframe tbody tr th:only-of-type {\n",
       "        vertical-align: middle;\n",
       "    }\n",
       "\n",
       "    .dataframe tbody tr th {\n",
       "        vertical-align: top;\n",
       "    }\n",
       "\n",
       "    .dataframe thead th {\n",
       "        text-align: right;\n",
       "    }\n",
       "</style>\n",
       "<table border=\"1\" class=\"dataframe\">\n",
       "  <thead>\n",
       "    <tr style=\"text-align: right;\">\n",
       "      <th></th>\n",
       "      <th>cool</th>\n",
       "      <th>useful</th>\n",
       "      <th>funny</th>\n",
       "      <th>text length</th>\n",
       "    </tr>\n",
       "    <tr>\n",
       "      <th>stars</th>\n",
       "      <th></th>\n",
       "      <th></th>\n",
       "      <th></th>\n",
       "      <th></th>\n",
       "    </tr>\n",
       "  </thead>\n",
       "  <tbody>\n",
       "    <tr>\n",
       "      <th>1</th>\n",
       "      <td>0.576769</td>\n",
       "      <td>1.604806</td>\n",
       "      <td>1.056075</td>\n",
       "      <td>826.515354</td>\n",
       "    </tr>\n",
       "    <tr>\n",
       "      <th>2</th>\n",
       "      <td>0.719525</td>\n",
       "      <td>1.563107</td>\n",
       "      <td>0.875944</td>\n",
       "      <td>842.256742</td>\n",
       "    </tr>\n",
       "    <tr>\n",
       "      <th>3</th>\n",
       "      <td>0.788501</td>\n",
       "      <td>1.306639</td>\n",
       "      <td>0.694730</td>\n",
       "      <td>758.498289</td>\n",
       "    </tr>\n",
       "    <tr>\n",
       "      <th>4</th>\n",
       "      <td>0.954623</td>\n",
       "      <td>1.395916</td>\n",
       "      <td>0.670448</td>\n",
       "      <td>712.923142</td>\n",
       "    </tr>\n",
       "    <tr>\n",
       "      <th>5</th>\n",
       "      <td>0.944261</td>\n",
       "      <td>1.381780</td>\n",
       "      <td>0.608631</td>\n",
       "      <td>624.999101</td>\n",
       "    </tr>\n",
       "  </tbody>\n",
       "</table>\n",
       "</div>"
      ],
      "text/plain": [
       "           cool    useful     funny  text length\n",
       "stars                                           \n",
       "1      0.576769  1.604806  1.056075   826.515354\n",
       "2      0.719525  1.563107  0.875944   842.256742\n",
       "3      0.788501  1.306639  0.694730   758.498289\n",
       "4      0.954623  1.395916  0.670448   712.923142\n",
       "5      0.944261  1.381780  0.608631   624.999101"
      ]
     },
     "execution_count": 9,
     "metadata": {},
     "output_type": "execute_result"
    }
   ],
   "source": [
    "grp= yelp.groupby('stars').mean()\n",
    "grp"
   ]
  },
  {
   "cell_type": "markdown",
   "metadata": {},
   "source": [
    "**Using the corr() method on that groupby dataframe to produce another dataframe:**"
   ]
  },
  {
   "cell_type": "code",
   "execution_count": 10,
   "metadata": {},
   "outputs": [
    {
     "data": {
      "text/html": [
       "<div>\n",
       "<style scoped>\n",
       "    .dataframe tbody tr th:only-of-type {\n",
       "        vertical-align: middle;\n",
       "    }\n",
       "\n",
       "    .dataframe tbody tr th {\n",
       "        vertical-align: top;\n",
       "    }\n",
       "\n",
       "    .dataframe thead th {\n",
       "        text-align: right;\n",
       "    }\n",
       "</style>\n",
       "<table border=\"1\" class=\"dataframe\">\n",
       "  <thead>\n",
       "    <tr style=\"text-align: right;\">\n",
       "      <th></th>\n",
       "      <th>cool</th>\n",
       "      <th>useful</th>\n",
       "      <th>funny</th>\n",
       "      <th>text length</th>\n",
       "    </tr>\n",
       "  </thead>\n",
       "  <tbody>\n",
       "    <tr>\n",
       "      <th>cool</th>\n",
       "      <td>1.000000</td>\n",
       "      <td>-0.743329</td>\n",
       "      <td>-0.944939</td>\n",
       "      <td>-0.857664</td>\n",
       "    </tr>\n",
       "    <tr>\n",
       "      <th>useful</th>\n",
       "      <td>-0.743329</td>\n",
       "      <td>1.000000</td>\n",
       "      <td>0.894506</td>\n",
       "      <td>0.699881</td>\n",
       "    </tr>\n",
       "    <tr>\n",
       "      <th>funny</th>\n",
       "      <td>-0.944939</td>\n",
       "      <td>0.894506</td>\n",
       "      <td>1.000000</td>\n",
       "      <td>0.843461</td>\n",
       "    </tr>\n",
       "    <tr>\n",
       "      <th>text length</th>\n",
       "      <td>-0.857664</td>\n",
       "      <td>0.699881</td>\n",
       "      <td>0.843461</td>\n",
       "      <td>1.000000</td>\n",
       "    </tr>\n",
       "  </tbody>\n",
       "</table>\n",
       "</div>"
      ],
      "text/plain": [
       "                 cool    useful     funny  text length\n",
       "cool         1.000000 -0.743329 -0.944939    -0.857664\n",
       "useful      -0.743329  1.000000  0.894506     0.699881\n",
       "funny       -0.944939  0.894506  1.000000     0.843461\n",
       "text length -0.857664  0.699881  0.843461     1.000000"
      ]
     },
     "execution_count": 10,
     "metadata": {},
     "output_type": "execute_result"
    }
   ],
   "source": [
    "grp_corr= grp.corr()\n",
    "grp_corr"
   ]
  },
  {
   "cell_type": "markdown",
   "metadata": {},
   "source": [
    "**Then using seaborn to create a heatmap based off that .corr() dataframe:**"
   ]
  },
  {
   "cell_type": "code",
   "execution_count": 11,
   "metadata": {},
   "outputs": [
    {
     "data": {
      "text/plain": [
       "<AxesSubplot:>"
      ]
     },
     "execution_count": 11,
     "metadata": {},
     "output_type": "execute_result"
    },
    {
     "data": {
      "image/png": "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\n",
      "text/plain": [
       "<Figure size 432x288 with 2 Axes>"
      ]
     },
     "metadata": {
      "needs_background": "light"
     },
     "output_type": "display_data"
    }
   ],
   "source": [
    "sns.heatmap(grp_corr, cmap='coolwarm', annot=True)"
   ]
  },
  {
   "cell_type": "markdown",
   "metadata": {},
   "source": [
    "## NLP Classification Task\n",
    "\n",
    "We'll move on to the actual task. To make things a little easier, we'll go ahead and only grab reviews that were either 1 star or 5 stars.\n",
    "\n",
    "**Creating a dataframe called yelp_class that contains the columns of yelp dataframe but for only the 1 or 5 star reviews:**"
   ]
  },
  {
   "cell_type": "code",
   "execution_count": 14,
   "metadata": {},
   "outputs": [
    {
     "data": {
      "text/html": [
       "<div>\n",
       "<style scoped>\n",
       "    .dataframe tbody tr th:only-of-type {\n",
       "        vertical-align: middle;\n",
       "    }\n",
       "\n",
       "    .dataframe tbody tr th {\n",
       "        vertical-align: top;\n",
       "    }\n",
       "\n",
       "    .dataframe thead th {\n",
       "        text-align: right;\n",
       "    }\n",
       "</style>\n",
       "<table border=\"1\" class=\"dataframe\">\n",
       "  <thead>\n",
       "    <tr style=\"text-align: right;\">\n",
       "      <th></th>\n",
       "      <th>business_id</th>\n",
       "      <th>date</th>\n",
       "      <th>review_id</th>\n",
       "      <th>stars</th>\n",
       "      <th>text</th>\n",
       "      <th>type</th>\n",
       "      <th>user_id</th>\n",
       "      <th>cool</th>\n",
       "      <th>useful</th>\n",
       "      <th>funny</th>\n",
       "      <th>text length</th>\n",
       "    </tr>\n",
       "  </thead>\n",
       "  <tbody>\n",
       "    <tr>\n",
       "      <th>0</th>\n",
       "      <td>9yKzy9PApeiPPOUJEtnvkg</td>\n",
       "      <td>2011-01-26</td>\n",
       "      <td>fWKvX83p0-ka4JS3dc6E5A</td>\n",
       "      <td>5</td>\n",
       "      <td>My wife took me here on my birthday for breakf...</td>\n",
       "      <td>review</td>\n",
       "      <td>rLtl8ZkDX5vH5nAx9C3q5Q</td>\n",
       "      <td>2</td>\n",
       "      <td>5</td>\n",
       "      <td>0</td>\n",
       "      <td>889</td>\n",
       "    </tr>\n",
       "    <tr>\n",
       "      <th>1</th>\n",
       "      <td>ZRJwVLyzEJq1VAihDhYiow</td>\n",
       "      <td>2011-07-27</td>\n",
       "      <td>IjZ33sJrzXqU-0X6U8NwyA</td>\n",
       "      <td>5</td>\n",
       "      <td>I have no idea why some people give bad review...</td>\n",
       "      <td>review</td>\n",
       "      <td>0a2KyEL0d3Yb1V6aivbIuQ</td>\n",
       "      <td>0</td>\n",
       "      <td>0</td>\n",
       "      <td>0</td>\n",
       "      <td>1345</td>\n",
       "    </tr>\n",
       "    <tr>\n",
       "      <th>3</th>\n",
       "      <td>_1QQZuf4zZOyFCvXc0o6Vg</td>\n",
       "      <td>2010-05-27</td>\n",
       "      <td>G-WvGaISbqqaMHlNnByodA</td>\n",
       "      <td>5</td>\n",
       "      <td>Rosie, Dakota, and I LOVE Chaparral Dog Park!!...</td>\n",
       "      <td>review</td>\n",
       "      <td>uZetl9T0NcROGOyFfughhg</td>\n",
       "      <td>1</td>\n",
       "      <td>2</td>\n",
       "      <td>0</td>\n",
       "      <td>419</td>\n",
       "    </tr>\n",
       "    <tr>\n",
       "      <th>4</th>\n",
       "      <td>6ozycU1RpktNG2-1BroVtw</td>\n",
       "      <td>2012-01-05</td>\n",
       "      <td>1uJFq2r5QfJG_6ExMRCaGw</td>\n",
       "      <td>5</td>\n",
       "      <td>General Manager Scott Petello is a good egg!!!...</td>\n",
       "      <td>review</td>\n",
       "      <td>vYmM4KTsC8ZfQBg-j5MWkw</td>\n",
       "      <td>0</td>\n",
       "      <td>0</td>\n",
       "      <td>0</td>\n",
       "      <td>469</td>\n",
       "    </tr>\n",
       "    <tr>\n",
       "      <th>6</th>\n",
       "      <td>zp713qNhx8d9KCJJnrw1xA</td>\n",
       "      <td>2010-02-12</td>\n",
       "      <td>riFQ3vxNpP4rWLk_CSri2A</td>\n",
       "      <td>5</td>\n",
       "      <td>Drop what you're doing and drive here. After I...</td>\n",
       "      <td>review</td>\n",
       "      <td>wFweIWhv2fREZV_dYkz_1g</td>\n",
       "      <td>7</td>\n",
       "      <td>7</td>\n",
       "      <td>4</td>\n",
       "      <td>1565</td>\n",
       "    </tr>\n",
       "  </tbody>\n",
       "</table>\n",
       "</div>"
      ],
      "text/plain": [
       "              business_id        date               review_id  stars  \\\n",
       "0  9yKzy9PApeiPPOUJEtnvkg  2011-01-26  fWKvX83p0-ka4JS3dc6E5A      5   \n",
       "1  ZRJwVLyzEJq1VAihDhYiow  2011-07-27  IjZ33sJrzXqU-0X6U8NwyA      5   \n",
       "3  _1QQZuf4zZOyFCvXc0o6Vg  2010-05-27  G-WvGaISbqqaMHlNnByodA      5   \n",
       "4  6ozycU1RpktNG2-1BroVtw  2012-01-05  1uJFq2r5QfJG_6ExMRCaGw      5   \n",
       "6  zp713qNhx8d9KCJJnrw1xA  2010-02-12  riFQ3vxNpP4rWLk_CSri2A      5   \n",
       "\n",
       "                                                text    type  \\\n",
       "0  My wife took me here on my birthday for breakf...  review   \n",
       "1  I have no idea why some people give bad review...  review   \n",
       "3  Rosie, Dakota, and I LOVE Chaparral Dog Park!!...  review   \n",
       "4  General Manager Scott Petello is a good egg!!!...  review   \n",
       "6  Drop what you're doing and drive here. After I...  review   \n",
       "\n",
       "                  user_id  cool  useful  funny  text length  \n",
       "0  rLtl8ZkDX5vH5nAx9C3q5Q     2       5      0          889  \n",
       "1  0a2KyEL0d3Yb1V6aivbIuQ     0       0      0         1345  \n",
       "3  uZetl9T0NcROGOyFfughhg     1       2      0          419  \n",
       "4  vYmM4KTsC8ZfQBg-j5MWkw     0       0      0          469  \n",
       "6  wFweIWhv2fREZV_dYkz_1g     7       7      4         1565  "
      ]
     },
     "execution_count": 14,
     "metadata": {},
     "output_type": "execute_result"
    }
   ],
   "source": [
    "yelp_class= yelp[(yelp['stars']== 1) | (yelp['stars'] == 5)]\n",
    "yelp_class.head()"
   ]
  },
  {
   "cell_type": "markdown",
   "metadata": {},
   "source": [
    "**Creating two objects X and y: X will be the 'text' column of yelp_class and y will be the 'stars' column of yelp_class. (The features and target/labels)**"
   ]
  },
  {
   "cell_type": "code",
   "execution_count": 15,
   "metadata": {},
   "outputs": [],
   "source": [
    "X= yelp_class['text']\n",
    "y= yelp_class['stars']"
   ]
  },
  {
   "cell_type": "markdown",
   "metadata": {},
   "source": [
    "**Importing CountVectorizer and creating a CountVectorizer object:**"
   ]
  },
  {
   "cell_type": "code",
   "execution_count": 16,
   "metadata": {},
   "outputs": [],
   "source": [
    "from sklearn.feature_extraction.text import CountVectorizer\n",
    "cv= CountVectorizer()"
   ]
  },
  {
   "cell_type": "markdown",
   "metadata": {},
   "source": [
    "**Using the fit_transform method on the CountVectorizer object and passing in X (the 'text' column). We,ll save this result by overwriting X:**"
   ]
  },
  {
   "cell_type": "code",
   "execution_count": 25,
   "metadata": {},
   "outputs": [],
   "source": [
    "X= cv.fit_transform(X)"
   ]
  },
  {
   "cell_type": "markdown",
   "metadata": {},
   "source": [
    "## Train Test Split\n",
    "\n",
    "We'll split our data into training and testing data.\n",
    "\n",
    "**Using train_test_split to split up the data into X_train, X_test, y_train, y_test:**"
   ]
  },
  {
   "cell_type": "code",
   "execution_count": 26,
   "metadata": {},
   "outputs": [],
   "source": [
    "from sklearn.model_selection import train_test_split"
   ]
  },
  {
   "cell_type": "code",
   "execution_count": 27,
   "metadata": {},
   "outputs": [],
   "source": [
    "X_train, X_test, y_train, y_test= train_test_split(X, y,test_size=0.3, random_state=101 )"
   ]
  },
  {
   "cell_type": "markdown",
   "metadata": {},
   "source": [
    "## Training a Model\n",
    "\n",
    "Time to train a model!\n",
    "\n",
    "**Importing MultinomialNB and creating an instance of the estimator and call is nb:**"
   ]
  },
  {
   "cell_type": "code",
   "execution_count": 28,
   "metadata": {},
   "outputs": [],
   "source": [
    "from sklearn.naive_bayes import MultinomialNB\n",
    "nb= MultinomialNB()"
   ]
  },
  {
   "cell_type": "markdown",
   "metadata": {},
   "source": [
    "**Now fitting nb using the training data:**"
   ]
  },
  {
   "cell_type": "code",
   "execution_count": 29,
   "metadata": {},
   "outputs": [
    {
     "data": {
      "text/plain": [
       "MultinomialNB(alpha=1.0, class_prior=None, fit_prior=True)"
      ]
     },
     "execution_count": 29,
     "metadata": {},
     "output_type": "execute_result"
    }
   ],
   "source": [
    "nb.fit(X_train, y_train)"
   ]
  },
  {
   "cell_type": "markdown",
   "metadata": {},
   "source": [
    "## Predictions and Evaluations\n",
    "\n",
    "Time to see how our model did!\n",
    "\n",
    "**Using the predict method off of nb to predict labels from X_test:**"
   ]
  },
  {
   "cell_type": "code",
   "execution_count": 32,
   "metadata": {},
   "outputs": [],
   "source": [
    "predictions= nb.predict(X_test)"
   ]
  },
  {
   "cell_type": "markdown",
   "metadata": {},
   "source": [
    "**Creating a confusion matrix and classification report using these predictions and y_test:**"
   ]
  },
  {
   "cell_type": "code",
   "execution_count": 31,
   "metadata": {},
   "outputs": [],
   "source": [
    "from sklearn.metrics import confusion_matrix, classification_report"
   ]
  },
  {
   "cell_type": "code",
   "execution_count": 33,
   "metadata": {},
   "outputs": [
    {
     "name": "stdout",
     "output_type": "stream",
     "text": [
      "[[159  22]\n",
      " [ 69 976]]\n",
      "\n",
      "\n",
      "              precision    recall  f1-score   support\n",
      "\n",
      "           1       0.70      0.88      0.78       181\n",
      "           5       0.98      0.93      0.96      1045\n",
      "\n",
      "   micro avg       0.93      0.93      0.93      1226\n",
      "   macro avg       0.84      0.91      0.87      1226\n",
      "weighted avg       0.94      0.93      0.93      1226\n",
      "\n"
     ]
    }
   ],
   "source": [
    "print(confusion_matrix(predictions, y_test))\n",
    "print('\\n')\n",
    "print(classification_report(predictions, y_test))"
   ]
  },
  {
   "cell_type": "markdown",
   "metadata": {},
   "source": [
    "**Great! We'll see what happens if we try to include TF-IDF to this process using a pipeline.**"
   ]
  },
  {
   "cell_type": "markdown",
   "metadata": {},
   "source": [
    "# Using Text Processing\n",
    "\n",
    "**Importing TfidfTransformer from sklearn:**"
   ]
  },
  {
   "cell_type": "code",
   "execution_count": 38,
   "metadata": {},
   "outputs": [],
   "source": [
    "from sklearn.feature_extraction.text import TfidfTransformer\n",
    "#tfid_transformer= TfidfTransformer()"
   ]
  },
  {
   "cell_type": "markdown",
   "metadata": {},
   "source": [
    "**Importing Pipeline from sklearn:**"
   ]
  },
  {
   "cell_type": "code",
   "execution_count": 39,
   "metadata": {},
   "outputs": [],
   "source": [
    "from sklearn.pipeline import Pipeline"
   ]
  },
  {
   "cell_type": "markdown",
   "metadata": {},
   "source": [
    "**Now creating a pipeline with the following steps:CountVectorizer(), TfidfTransformer(),MultinomialNB()**"
   ]
  },
  {
   "cell_type": "code",
   "execution_count": 44,
   "metadata": {},
   "outputs": [],
   "source": [
    "pipeline = Pipeline([\n",
    "    ('bow', CountVectorizer()),  # strings to token integer counts\n",
    "    ('tfidf', TfidfTransformer()),  # integer counts to weighted TF-IDF scores\n",
    "    ('classifier', MultinomialNB()),  # train on TF-IDF vectors w/ Naive Bayes classifier\n",
    "])"
   ]
  },
  {
   "cell_type": "markdown",
   "metadata": {},
   "source": [
    "## Using the Pipeline\n",
    "\n",
    "**Time to use the pipeline! We'll need to re-split the original data since we overwrote X as the CountVectorized version. What we need is just the text**"
   ]
  },
  {
   "cell_type": "markdown",
   "metadata": {},
   "source": [
    "### Train Test Split\n",
    "\n",
    "**Redoing the train test split on the yelp_class object:**"
   ]
  },
  {
   "cell_type": "code",
   "execution_count": 54,
   "metadata": {},
   "outputs": [],
   "source": [
    "X= yelp_class['text']\n",
    "y= yelp_class['stars']\n",
    "X_train, X_test, y_train, y_test= train_test_split(X, y, test_size= 0.3, random_state= 101)"
   ]
  },
  {
   "cell_type": "markdown",
   "metadata": {},
   "source": [
    "**Now fitting the pipeline to the training data. We can't use the same training data as last time because that data has already been vectorized. We need to pass in just the text and labels**"
   ]
  },
  {
   "cell_type": "code",
   "execution_count": 48,
   "metadata": {},
   "outputs": [
    {
     "data": {
      "text/plain": [
       "Pipeline(memory=None,\n",
       "     steps=[('bow', CountVectorizer(analyzer='word', binary=False, decode_error='strict',\n",
       "        dtype=<class 'numpy.int64'>, encoding='utf-8', input='content',\n",
       "        lowercase=True, max_df=1.0, max_features=None, min_df=1,\n",
       "        ngram_range=(1, 1), preprocessor=None, stop_words=None,\n",
       "        strip_...f=False, use_idf=True)), ('classifier', MultinomialNB(alpha=1.0, class_prior=None, fit_prior=True))])"
      ]
     },
     "execution_count": 48,
     "metadata": {},
     "output_type": "execute_result"
    }
   ],
   "source": [
    "pipeline.fit(X_train, y_train)"
   ]
  },
  {
   "cell_type": "markdown",
   "metadata": {},
   "source": [
    "### Predictions and Evaluation\n",
    "\n",
    "**Now using the pipeline to predict from the X_test and creating a classification report and confusion matrix:**"
   ]
  },
  {
   "cell_type": "code",
   "execution_count": 49,
   "metadata": {},
   "outputs": [],
   "source": [
    "predict= pipeline.predict(X_test)"
   ]
  },
  {
   "cell_type": "code",
   "execution_count": 53,
   "metadata": {},
   "outputs": [
    {
     "name": "stdout",
     "output_type": "stream",
     "text": [
      "[[   0    0]\n",
      " [ 247 1102]]\n",
      "\n",
      "\n",
      "              precision    recall  f1-score   support\n",
      "\n",
      "           1       0.00      0.00      0.00       247\n",
      "           5       0.82      1.00      0.90      1102\n",
      "\n",
      "   micro avg       0.82      0.82      0.82      1349\n",
      "   macro avg       0.41      0.50      0.45      1349\n",
      "weighted avg       0.67      0.82      0.73      1349\n",
      "\n"
     ]
    },
    {
     "name": "stderr",
     "output_type": "stream",
     "text": [
      "C:\\Users\\Ajisco\\Anaconda3\\lib\\site-packages\\sklearn\\metrics\\classification.py:1143: UndefinedMetricWarning: Precision and F-score are ill-defined and being set to 0.0 in labels with no predicted samples.\n",
      "  'precision', 'predicted', average, warn_for)\n",
      "C:\\Users\\Ajisco\\Anaconda3\\lib\\site-packages\\sklearn\\metrics\\classification.py:1143: UndefinedMetricWarning: Precision and F-score are ill-defined and being set to 0.0 in labels with no predicted samples.\n",
      "  'precision', 'predicted', average, warn_for)\n",
      "C:\\Users\\Ajisco\\Anaconda3\\lib\\site-packages\\sklearn\\metrics\\classification.py:1143: UndefinedMetricWarning: Precision and F-score are ill-defined and being set to 0.0 in labels with no predicted samples.\n",
      "  'precision', 'predicted', average, warn_for)\n"
     ]
    }
   ],
   "source": [
    "print(confusion_matrix(predict, y_test))\n",
    "print('\\n')\n",
    "print(classification_report(y_test, predict))"
   ]
  },
  {
   "cell_type": "markdown",
   "metadata": {},
   "source": [
    "Looks like Tf-Idf actually made things worse!"
   ]
  },
  {
   "cell_type": "markdown",
   "metadata": {},
   "source": [
    "### The End!\n",
    "\n",
   
   ]
  }
 ],
 "metadata": {
  "kernelspec": {
   "display_name": "Python 3",
   "language": "python",
   "name": "python3"
  },
  "language_info": {
   "codemirror_mode": {
    "name": "ipython",
    "version": 3
   },
   "file_extension": ".py",
   "mimetype": "text/x-python",
   "name": "python",
   "nbconvert_exporter": "python",
   "pygments_lexer": "ipython3",
   "version": "3.7.1"
  }
 },
 "nbformat": 4,
 "nbformat_minor": 1
}
